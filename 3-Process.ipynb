{
 "cells": [
  {
   "cell_type": "code",
   "execution_count": null,
   "metadata": {},
   "outputs": [],
   "source": [
    "import pandas as pd\n",
    "import matplotlib.pyplot as plt\n",
    "import seaborn as sns\n",
    "import folium\n",
    "\n",
    "# Cargar datos\n",
    "bicis = pd.read_csv(r\"I:\\Mi unidad\\Personal\\CursosG\\cursos\\ultimo curso caso de estudio\\1caso\\202004-divvy-tripdata.csv\")\n",
    "\n",
    "# Convertir fechas a formato datetime\n",
    "bicis['started_at'] = pd.to_datetime(bicis['started_at'])\n",
    "bicis['ended_at'] = pd.to_datetime(bicis['ended_at'])\n",
    "\n",
    "# Manejar valores nulos\n",
    "bicis['end_station_name'].fillna(value='Desconocido', inplace=True)\n",
    "bicis['end_station_id'].fillna(value=-1, inplace=True)\n",
    "bicis['end_lat'].fillna(value=0.0, inplace=True)\n",
    "bicis['end_lng'].fillna(value=0.0, inplace=True)\n",
    "\n",
    "# Ordenar por fecha de inicio del viaje\n",
    "bicis.sort_values(by='started_at', inplace=True)\n",
    "\n",
    "# Filtrar solo las columnas relevantes para el análisis\n",
    "columnas_relevantes = ['ride_id', 'rideable_type', 'started_at', 'ended_at', 'start_station_name', 'end_station_name', 'member_casual']\n",
    "bicis_filtrado = bicis[columnas_relevantes]\n",
    "\n",
    "# Verificar duplicados\n",
    "duplicados = bicis_filtrado[bicis_filtrado.duplicated()]\n",
    "print(\"Duplicados en el DataFrame:\", duplicados)\n",
    "\n",
    "# Verificar valores nulos\n",
    "valores_nulos = bicis_filtrado.isnull().sum()\n",
    "print(\"Valores nulos por columna:\", valores_nulos)\n",
    "\n",
    "# Guardar los datos en un archivo CSV\n",
    "bicis_filtrado.to_csv('datos_cyclistic.csv', index=False)\n"
   ]
  }
 ],
 "metadata": {
  "kernelspec": {
   "display_name": "Python 3",
   "language": "python",
   "name": "python3"
  },
  "language_info": {
   "name": "python",
   "version": "3.11.4"
  }
 },
 "nbformat": 4,
 "nbformat_minor": 2
}
